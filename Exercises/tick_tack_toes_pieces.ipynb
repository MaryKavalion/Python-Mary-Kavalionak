{
 "cells": [
  {
   "cell_type": "code",
   "execution_count": null,
   "metadata": {},
   "outputs": [],
   "source": [
    "import numpy as np\n",
    "import matplotlib.pyplot as plt\n",
    "%matplotlib inline"
   ]
  },
  {
   "cell_type": "code",
   "execution_count": null,
   "metadata": {},
   "outputs": [],
   "source": [
    "xs = [(1, 1), (3,1), (5,1)]\n",
    "os = [(5,3), (3,5)]\n",
    "x_xs = [item[0] for item in xs]\n",
    "y_xs = [item[1] for item in xs]\n",
    "x_os = [item[0] for item in os]\n",
    "y_os = [item[1] for item in os]\n",
    "plt.scatter (x_xs, y_xs, marker = \"X\", s = 500)\n",
    "plt.scatter (x_os, y_os, marker = \"o\", s = 500)\n",
    "plt.xticks(list(range(0, 7, 2)))\n",
    "plt.yticks(list(range(0, 7, 2)))\n",
    "plt.grid()\n",
    "plt. show()"
   ]
  },
  {
   "cell_type": "code",
   "execution_count": null,
   "metadata": {},
   "outputs": [],
   "source": [
    "def choose_your_figure():\n",
    "    variants = [\"x\", \"o\"]\n",
    "    players_choice = 0\n",
    "    while players_choice not in variants:\n",
    "        players_choice = input (\"Do you want to be X or O? (type x or o) \")\n",
    "    if players_choice == \"x\":\n",
    "        return \"X\"\n",
    "    return players_choice"
   ]
  },
  {
   "cell_type": "code",
   "execution_count": null,
   "metadata": {},
   "outputs": [],
   "source": [
    "def another_game ():\n",
    "    variants = [\"y\", \"n\"]\n",
    "    players_choice = None\n",
    "    while players_choice not in variants:\n",
    "        players_choice = input (\"Do you want another round? (type y for yes, n for no) \")\n",
    "    if players_choice == \"y\":\n",
    "        return True\n",
    "    return False"
   ]
  },
  {
   "cell_type": "code",
   "execution_count": null,
   "metadata": {},
   "outputs": [],
   "source": [
    "choice_details = {\n",
    "                        \"variants\": \n",
    "                            {\n",
    "                                \"1\": [\"x\", \"o\"],\n",
    "                                \"2\": [\"y\", \"n\"]\n",
    "                            },\n",
    "                        \"questions\":\n",
    "                            {\n",
    "                                \"1\": \"Do you want to be X or O? (type x or y) \",\n",
    "                                \"2\": \"Do you want another round? (type y for yes, n for no) \",\n",
    "                            },\n",
    "                        \"returns\":\n",
    "                            {\n",
    "                                \"1\": [\"X\", \"o\"],\n",
    "                                \"2\": [True, False]\n",
    "                            }\n",
    "}    "
   ]
  },
  {
   "cell_type": "code",
   "execution_count": null,
   "metadata": {},
   "outputs": [],
   "source": [
    "class Choice:\n",
    "    def __init__(self, variant, question, a_return=None):\n",
    "        self.variant = variant\n",
    "        self.question = question\n",
    "        self.a_return = a_return\n",
    "\n",
    "    def players_choice (self):\n",
    "        players_choice = None\n",
    "        while players_choice not in self.variant:\n",
    "            players_choice = input (self.question)\n",
    "        if self.a_return != None:\n",
    "            if players_choice == self.variant[0]:\n",
    "                return self.a_return[0]\n",
    "            return self.a_return[1]\n",
    "        return players_choice\n",
    "\n",
    "figure = Choice([\"x\", \"o\"], \"Do you want to be X or O? (type x or o) \", [\"X\", \"o\"])\n",
    "another_round = ([\"y\", \"n\"], \"Do you want another round? (type y for yes, n for no) \", [True, False])   \n",
    "    "
   ]
  },
  {
   "cell_type": "code",
   "execution_count": null,
   "metadata": {},
   "outputs": [],
   "source": [
    "first_player = figure.players_choice()\n",
    "second_player = \"o\" if first_player == \"X\" else \"X\"\n",
    "print (first_player, second_player)"
   ]
  },
  {
   "cell_type": "code",
   "execution_count": 67,
   "metadata": {},
   "outputs": [],
   "source": [
    "fields = {\n",
    "            \"1\": {\"coordinates\": (1,5), \"access\": True, \"figure\": \"1\"},\n",
    "            \"2\": {\"coordinates\": (3,5), \"access\": True, \"figure\": \"2\"},\n",
    "            \"3\": {\"coordinates\": (5,5), \"access\": True, \"figure\": \"3\"},\n",
    "            \"4\": {\"coordinates\": (1,3), \"access\": True, \"figure\": \"4\"},\n",
    "            \"5\": {\"coordinates\": (3,3), \"access\": True, \"figure\": \"5\"},\n",
    "            \"6\": {\"coordinates\": (5,3), \"access\": True, \"figure\": \"6\"},\n",
    "            \"7\": {\"coordinates\": (1,1), \"access\": True, \"figure\": \"7\"},\n",
    "            \"8\": {\"coordinates\": (3,1), \"access\": True, \"figure\": \"8\"},\n",
    "            \"9\": {\"coordinates\": (5,1), \"access\": True, \"figure\": \"9\"}\n",
    "            }\n",
    "\n",
    "def access_fields (fields):\n",
    "    accessible_fields = []\n",
    "    for key in fields.keys():\n",
    "        if fields[key][\"access\"]:\n",
    "            accessible_fields.append(key)\n",
    "    return accessible_fields"
   ]
  },
  {
   "cell_type": "code",
   "execution_count": null,
   "metadata": {},
   "outputs": [],
   "source": [
    "def choose_a_field(fields, player):\n",
    "    accessible_fields = access_fields(fields)\n",
    "    field = Choice (variant = accessible_fields, question = f\"Accessible fields: {accessible_fields}. Please choose the field to put your figure in. \")\n",
    "    chosen_field = field.players_choice()\n",
    "    print (f\"Your choice is: {chosen_field}\")\n",
    "    return [chosen_field, player]"
   ]
  },
  {
   "cell_type": "code",
   "execution_count": null,
   "metadata": {},
   "outputs": [],
   "source": [
    "def modify_the_field(fields, player):\n",
    "    move = choose_a_field(fields, player)\n",
    "    fields[move[0]][\"figure\"]=move[1]\n",
    "    fields[move[0]][\"access\"]: False\n",
    "    print (fields)\n",
    "    return fields"
   ]
  },
  {
   "cell_type": "code",
   "execution_count": 86,
   "metadata": {},
   "outputs": [],
   "source": [
    "def find_the_output(fields):\n",
    "    output = [fields[key][\"figure\"] for key in fields]\n",
    "    for index, value in enumerate(output):\n",
    "        if value.isalpha():\n",
    "            output[index] = value.upper()\n",
    "    return (output)"
   ]
  },
  {
   "cell_type": "code",
   "execution_count": 89,
   "metadata": {},
   "outputs": [],
   "source": [
    "# divide the output into three lines\n",
    "# then maybe \"  \".join(eachline)\n",
    "\n",
    "def print_the_field(fields):\n",
    "    output = find_the_output(fields)\n",
    "    lines = []\n",
    "    #for index, element in enumerate (output):\n",
    "        #subset1 = []\n",
    "    \n",
    "    "
   ]
  },
  {
   "cell_type": "code",
   "execution_count": 90,
   "metadata": {},
   "outputs": [
    {
     "name": "stdout",
     "output_type": "stream",
     "text": [
      "0 1\n",
      "1 2\n",
      "2 3\n",
      "3 4\n",
      "4 5\n",
      "5 X\n",
      "6 7\n",
      "7 8\n",
      "8 9\n"
     ]
    }
   ],
   "source": [
    "print_the_field(fields)"
   ]
  },
  {
   "cell_type": "code",
   "execution_count": null,
   "metadata": {},
   "outputs": [],
   "source": [
    "fields = modify_the_field(fields, first_player)"
   ]
  }
 ],
 "metadata": {
  "kernelspec": {
   "display_name": "Python 3",
   "language": "python",
   "name": "python3"
  },
  "language_info": {
   "codemirror_mode": {
    "name": "ipython",
    "version": 3
   },
   "file_extension": ".py",
   "mimetype": "text/x-python",
   "name": "python",
   "nbconvert_exporter": "python",
   "pygments_lexer": "ipython3",
   "version": "3.11.5"
  },
  "orig_nbformat": 4
 },
 "nbformat": 4,
 "nbformat_minor": 2
}
