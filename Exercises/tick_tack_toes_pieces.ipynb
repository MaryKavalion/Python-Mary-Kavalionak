{
 "cells": [
  {
   "cell_type": "markdown",
   "metadata": {},
   "source": [
    "# A file to run code pieces separately"
   ]
  },
  {
   "cell_type": "code",
   "execution_count": null,
   "metadata": {},
   "outputs": [],
   "source": [
    "\n",
    "import matplotlib.pyplot as plt\n",
    "%matplotlib inline"
   ]
  },
  {
   "cell_type": "code",
   "execution_count": null,
   "metadata": {},
   "outputs": [],
   "source": [
    "def choose_your_figure():\n",
    "    variants = [\"x\", \"o\"]\n",
    "    players_choice = 0\n",
    "    while players_choice not in variants:\n",
    "        players_choice = input (\"Do you want to be X or O? (type x or o) \")\n",
    "    if players_choice == \"x\":\n",
    "        return \"X\"\n",
    "    return players_choice"
   ]
  },
  {
   "cell_type": "code",
   "execution_count": null,
   "metadata": {},
   "outputs": [],
   "source": [
    "def another_game ():\n",
    "    variants = [\"y\", \"n\"]\n",
    "    players_choice = None\n",
    "    while players_choice not in variants:\n",
    "        players_choice = input (\"Do you want another round? (type y for yes, n for no) \")\n",
    "    if players_choice == \"y\":\n",
    "        return True\n",
    "    return False"
   ]
  },
  {
   "cell_type": "code",
   "execution_count": null,
   "metadata": {},
   "outputs": [],
   "source": [
    "class Choice:\n",
    "    def __init__(self, variant, question, a_return=None):\n",
    "        self.variant = variant\n",
    "        self.question = question\n",
    "        self.a_return = a_return\n",
    "\n",
    "    def players_choice (self):\n",
    "        players_choice = None\n",
    "        while players_choice not in self.variant:\n",
    "            players_choice = input (self.question)\n",
    "        if self.a_return != None:\n",
    "            if players_choice == self.variant[0]:\n",
    "                return self.a_return[0]\n",
    "            return self.a_return[1]\n",
    "        return players_choice\n",
    "\n",
    "figure = Choice([\"x\", \"o\"], \"Do you want to be X or O? (type x or o) \", [\"X\", \"o\"])\n",
    "another_round = ([\"y\", \"n\"], \"Do you want another round? (type y for yes, n for no) \", [True, False])   \n",
    "    "
   ]
  },
  {
   "cell_type": "code",
   "execution_count": null,
   "metadata": {},
   "outputs": [],
   "source": [
    "first_player = figure.players_choice()\n",
    "second_player = \"o\" if first_player == \"X\" else \"X\"\n",
    "print (first_player, second_player)"
   ]
  },
  {
   "cell_type": "code",
   "execution_count": 61,
   "metadata": {},
   "outputs": [],
   "source": [
    "def make_fields ():\n",
    "    fields = {\n",
    "            \"1\": {\"coordinates\": (1,1), \"access\": True, \"figure\": \"1\"},\n",
    "            \"2\": {\"coordinates\": (3,1), \"access\": True, \"figure\": \"2\"},\n",
    "            \"3\": {\"coordinates\": (5,1), \"access\": True, \"figure\": \"3\"},\n",
    "            \"4\": {\"coordinates\": (1,3), \"access\": True, \"figure\": \"4\"},\n",
    "            \"5\": {\"coordinates\": (3,3), \"access\": True, \"figure\": \"5\"},\n",
    "            \"6\": {\"coordinates\": (5,3), \"access\": True, \"figure\": \"6\"},\n",
    "            \"7\": {\"coordinates\": (1,5), \"access\": True, \"figure\": \"7\"},\n",
    "            \"8\": {\"coordinates\": (3,5), \"access\": True, \"figure\": \"8\"},\n",
    "            \"9\": {\"coordinates\": (5,5), \"access\": True, \"figure\": \"9\"}\n",
    "            }\n",
    "    return fields"
   ]
  },
  {
   "cell_type": "code",
   "execution_count": 62,
   "metadata": {},
   "outputs": [
    {
     "name": "stdout",
     "output_type": "stream",
     "text": [
      "{'1': {'coordinates': (1, 1), 'access': True, 'figure': '1'}, '2': {'coordinates': (3, 1), 'access': True, 'figure': '2'}, '3': {'coordinates': (5, 1), 'access': True, 'figure': '3'}, '4': {'coordinates': (1, 3), 'access': True, 'figure': '4'}, '5': {'coordinates': (3, 3), 'access': True, 'figure': '5'}, '6': {'coordinates': (5, 3), 'access': True, 'figure': '6'}, '7': {'coordinates': (1, 5), 'access': True, 'figure': '7'}, '8': {'coordinates': (3, 5), 'access': True, 'figure': '8'}, '9': {'coordinates': (5, 5), 'access': True, 'figure': '9'}}\n"
     ]
    }
   ],
   "source": [
    "fields = make_fields()\n",
    "print (fields)"
   ]
  },
  {
   "cell_type": "code",
   "execution_count": null,
   "metadata": {},
   "outputs": [],
   "source": [
    "def access_fields (fields):\n",
    "    accessible_fields = []\n",
    "    for key in fields.keys():\n",
    "        if fields[key][\"access\"]:\n",
    "            accessible_fields.append(key)\n",
    "    return accessible_fields"
   ]
  },
  {
   "cell_type": "code",
   "execution_count": null,
   "metadata": {},
   "outputs": [],
   "source": [
    "def choose_a_field(fields, player):\n",
    "    accessible_fields = access_fields(fields)\n",
    "    field = Choice (variant = accessible_fields, question = f\"Accessible fields: {accessible_fields}. Please choose the field to put your figure in. \")\n",
    "    chosen_field = field.players_choice()\n",
    "    print (f\"Your choice is: {chosen_field}\")\n",
    "    return [chosen_field, player]"
   ]
  },
  {
   "cell_type": "code",
   "execution_count": 49,
   "metadata": {},
   "outputs": [],
   "source": [
    "def modify_the_field(fields, player):\n",
    "    move = choose_a_field(fields, player)\n",
    "    fields[move[0]][\"figure\"]=move[1]\n",
    "    fields[move[0]][\"access\"]= False\n",
    "    return fields"
   ]
  },
  {
   "cell_type": "code",
   "execution_count": 26,
   "metadata": {},
   "outputs": [
    {
     "name": "stdout",
     "output_type": "stream",
     "text": [
      "['1', '2', '3', '4', '5', '6', '7', '8', '9']\n"
     ]
    }
   ],
   "source": [
    "def find_the_output(fields):\n",
    "    output = [fields[key][\"figure\"] for key in fields]\n",
    "    for index, value in enumerate(output):\n",
    "        if value.isalpha():\n",
    "            output[index] = value.upper()\n",
    "    return (output)\n",
    "\n",
    "output = find_the_output(fields)\n",
    "print (output)"
   ]
  },
  {
   "cell_type": "code",
   "execution_count": 63,
   "metadata": {},
   "outputs": [],
   "source": [
    "def print_the_field(fields):\n",
    "    output = find_the_output(fields)\n",
    "    #lines = [\"  \".join(output[:3]), \"  \".join(output[3:6]), \"  \".join(output [6:])]\n",
    "    lines = [\"  \".join(output[6:]), \"  \".join(output[3:6]), \"  \".join(output [:3])]\n",
    "    print (\"\\n\".join(lines))"
   ]
  },
  {
   "cell_type": "code",
   "execution_count": 64,
   "metadata": {},
   "outputs": [
    {
     "name": "stdout",
     "output_type": "stream",
     "text": [
      "7  8  9\n",
      "4  5  6\n",
      "1  2  3\n"
     ]
    }
   ],
   "source": [
    "print_the_field(fields)"
   ]
  },
  {
   "cell_type": "code",
   "execution_count": 50,
   "metadata": {},
   "outputs": [
    {
     "name": "stdout",
     "output_type": "stream",
     "text": [
      "Your choice is: 4\n",
      "{'1': {'coordinates': (1, 5), 'access': True, 'figure': '1'}, '2': {'coordinates': (3, 5), 'access': True, 'figure': '2'}, '3': {'coordinates': (5, 5), 'access': True, 'figure': '3'}, '4': {'coordinates': (1, 3), 'access': True, 'figure': 'X'}, '5': {'coordinates': (3, 3), 'access': True, 'figure': '5'}, '6': {'coordinates': (5, 3), 'access': True, 'figure': '6'}, '7': {'coordinates': (1, 1), 'access': True, 'figure': '7'}, '8': {'coordinates': (3, 1), 'access': True, 'figure': '8'}, '9': {'coordinates': (5, 1), 'access': True, 'figure': '9'}}\n"
     ]
    }
   ],
   "source": [
    "fields = modify_the_field(fields, first_player)"
   ]
  },
  {
   "cell_type": "code",
   "execution_count": 51,
   "metadata": {},
   "outputs": [],
   "source": [
    "def provide_coordinates (fields, player):\n",
    "    coordinates = []\n",
    "    for key in fields.keys():\n",
    "        if fields[key][\"figure\"] == player:\n",
    "            coordinates.append(fields[key][\"coordinates\"])\n",
    "    print (coordinates)\n",
    "    return (coordinates)\n",
    "    "
   ]
  },
  {
   "cell_type": "code",
   "execution_count": 52,
   "metadata": {},
   "outputs": [
    {
     "name": "stdout",
     "output_type": "stream",
     "text": [
      "[(1, 3)]\n"
     ]
    }
   ],
   "source": [
    "xs = provide_coordinates(fields, first_player)"
   ]
  },
  {
   "cell_type": "code",
   "execution_count": 53,
   "metadata": {},
   "outputs": [],
   "source": [
    "def plot_the_field (fields, first_player, second_player):\n",
    "    \n",
    "    x_player = first_player if first_player == \"X\" else second_player\n",
    "    o_player = second_player if x_player == first_player else first_player\n",
    "    xs = provide_coordinates(fields, x_player)\n",
    "    os = provide_coordinates(fields, o_player)\n",
    "    x_xs = [item[0] for item in xs]\n",
    "    y_xs = [item[1] for item in xs]\n",
    "    x_os = [item[0] for item in os]\n",
    "    y_os = [item[1] for item in os]\n",
    "    plt.scatter (x_xs, y_xs, marker = \"X\", s = 500)\n",
    "    plt.scatter (x_os, y_os, marker = \"o\", s = 500)\n",
    "    plt.xticks(list(range(0, 7, 2)))\n",
    "    plt.yticks(list(range(0, 7, 2)))\n",
    "    plt.grid()\n",
    "    plt. show()"
   ]
  },
  {
   "cell_type": "code",
   "execution_count": 55,
   "metadata": {},
   "outputs": [
    {
     "name": "stdout",
     "output_type": "stream",
     "text": [
      "[(1, 3)]\n",
      "[]\n"
     ]
    },
    {
     "data": {
      "image/png": "[encoded data removed]",
      "text/plain": [
       "<Figure size 640x480 with 1 Axes>"
      ]
     },
     "metadata": {},
     "output_type": "display_data"
    }
   ],
   "source": [
    "plot_the_field(fields, first_player, second_player)"
   ]
  },
  {
   "cell_type": "code",
   "execution_count": 59,
   "metadata": {},
   "outputs": [],
   "source": [
    "def is_winner (fields, player):\n",
    "    conditions = [\n",
    "        fields[\"1\"][\"figure\"] == fields[\"2\"][\"figure\"] == fields[\"3\"][\"figure\"],\n",
    "        fields[\"4\"][\"figure\"] == fields[\"5\"][\"figure\"] == fields[\"6\"][\"figure\"],\n",
    "        fields[\"7\"][\"figure\"] == fields[\"8\"][\"figure\"] == fields[\"9\"][\"figure\"],\n",
    "        fields[\"1\"][\"figure\"] == fields[\"4\"][\"figure\"] == fields[\"7\"][\"figure\"],\n",
    "        fields[\"2\"][\"figure\"] == fields[\"5\"][\"figure\"] == fields[\"8\"][\"figure\"],\n",
    "        fields[\"3\"][\"figure\"] == fields[\"6\"][\"figure\"] == fields[\"9\"][\"figure\"],\n",
    "        fields[\"3\"][\"figure\"] == fields[\"5\"][\"figure\"] == fields[\"7\"][\"figure\"],\n",
    "        fields[\"1\"][\"figure\"] == fields[\"5\"][\"figure\"] == fields[\"9\"][\"figure\"],\n",
    "    ]\n",
    "    if True in conditions:\n",
    "        print (f\"{player} wins!\")\n",
    "        return True\n",
    "    return False\n",
    "\n",
    "    "
   ]
  },
  {
   "cell_type": "code",
   "execution_count": 60,
   "metadata": {},
   "outputs": [
    {
     "data": {
      "text/plain": [
       "False"
      ]
     },
     "execution_count": 60,
     "metadata": {},
     "output_type": "execute_result"
    }
   ],
   "source": [
    "is_winner (fields, first_player)"
   ]
  },
  {
   "cell_type": "code",
   "execution_count": null,
   "metadata": {},
   "outputs": [],
   "source": [
    "def make_move (round, player_whose_turn, fields, second_player):\n",
    "    print (f\"Round {round+1}. {player_whose_turn}'s turn. \")\n",
    "    print_the_field(fields)\n",
    "    fields = modify_the_field(fields, player_whose_turn)\n",
    "    plot_the_field(fields, player_whose_turn, second_player)\n",
    "    return fields"
   ]
  }
 ],
 "metadata": {
  "kernelspec": {
   "display_name": "Python 3",
   "language": "python",
   "name": "python3"
  },
  "language_info": {
   "codemirror_mode": {
    "name": "ipython",
    "version": 3
   },
   "file_extension": ".py",
   "mimetype": "text/x-python",
   "name": "python",
   "nbconvert_exporter": "python",
   "pygments_lexer": "ipython3",
   "version": "3.11.5"
  },
  "orig_nbformat": 4
 },
 "nbformat": 4,
 "nbformat_minor": 2
}
