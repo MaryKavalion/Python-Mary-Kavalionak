{
 "cells": [
  {
   "cell_type": "markdown",
   "metadata": {},
   "source": [
    "# Load and save data to files\n",
    "\n",
    "2 main cayegories of files: **text** and **binary**\n",
    "\n",
    "Text files store text/characters in human-readable format.\n",
    "Binary files store byte data (1s and 0s).\n",
    "\n",
    "\n",
    "### Common text-based files to store data:\n",
    "- .txt\n",
    "- .csv\n",
    "- .json (Java Script Object Notation)"
   ]
  },
  {
   "cell_type": "markdown",
   "metadata": {},
   "source": [
    "### File names and file paths\n",
    "\n",
    "File name: name.extension\n",
    "\n",
    "Path can be expressed as **relative** (a path from the current active folder: e.g. *data\\data.json*) or **absolute** (full path)."
   ]
  },
  {
   "cell_type": "markdown",
   "metadata": {},
   "source": [
    "### The open function \n",
    "takes two parameters: *filename* and *mode*\n",
    "\n",
    "**Open file for reading**:\n"
   ]
  },
  {
   "cell_type": "markdown",
   "metadata": {},
   "source": [
    "\n",
    "`file = open(\"..\\data\\hello.txt\")` - will raise error if file doesn't exist\n",
    "\n",
    "`content = file.read()` - returns string\n",
    "\n",
    "`print (content)`\n",
    "\n",
    "`file.close()`\n"
   ]
  },
  {
   "cell_type": "markdown",
   "metadata": {},
   "source": [
    "**Open with context management** \n",
    "\n",
    "`with open(\"..\\data\\hello.txt\") as file:`\n",
    "\n",
    "        `content = file.read()` \n",
    "        \n",
    "        `print (content)`"
   ]
  },
  {
   "cell_type": "markdown",
   "metadata": {},
   "source": [
    "\n",
    "**Open file for writing**\n"
   ]
  },
  {
   "cell_type": "markdown",
   "metadata": {},
   "source": [
    "\n",
    "`file = open(\"..\\data\\hello.txt\", w)` \n",
    "\n",
    "`new_content = input (\"Enter text: )`\n",
    "\n",
    "`file.write (new_content + '\\n')`\n",
    "\n",
    "`file.close()`\n",
    "\n",
    "\n",
    "\n"
   ]
  },
  {
   "cell_type": "code",
   "execution_count": 9,
   "metadata": {},
   "outputs": [],
   "source": [
    "file = open(\".\\\\Data\\\\hello.txt\", \"w\") ### \"w\" creates a new file if it doesn't exist\n",
    "new_content = input (\"Enter text: \")\n",
    "file.write (new_content + '\\n')\n",
    "file.close()"
   ]
  },
  {
   "cell_type": "code",
   "execution_count": 3,
   "metadata": {},
   "outputs": [],
   "source": [
    "new_content = input (\"Enter text: \")\n",
    "\n",
    "with open (\"..\\Code-Along\\hello.txt\", \"a\") as file:\n",
    "    file.write(new_content + '\\n')"
   ]
  },
  {
   "cell_type": "markdown",
   "metadata": {},
   "source": [
    "\"a\" - Append - **Opens a file for appending**, creates the file if it does not exist"
   ]
  },
  {
   "cell_type": "markdown",
   "metadata": {},
   "source": [
    "\"w\" doesn't allow to read files"
   ]
  },
  {
   "cell_type": "markdown",
   "metadata": {},
   "source": [
    "## Write .csv file"
   ]
  },
  {
   "cell_type": "code",
   "execution_count": 7,
   "metadata": {},
   "outputs": [
    {
     "name": "stdout",
     "output_type": "stream",
     "text": [
      "[{'name': 'Adam', 'class': 'AI23', 'email': 'adam@gmail.com'}, {'name': 'Mary', 'class': 'AI23', 'email': 'mary@gmail.com'}]\n"
     ]
    }
   ],
   "source": [
    "students = [\n",
    "    {\"name\": \"Adam\", \"class\": \"AI23\", \"email\": \"adam@gmail.com\"},\n",
    "    {\"name\": \"Mary\", \"class\": \"AI23\", \"email\": \"mary@gmail.com\"}\n",
    "]\n",
    "print (students)\n",
    "\n",
    "with open (\".\\\\data\\\\students.csv\", \"w\") as file:\n",
    "    for student in students:\n",
    "        file.write (f\"{student['name']}, {student['class']}, {student['email']}\\n\")"
   ]
  },
  {
   "cell_type": "markdown",
   "metadata": {},
   "source": [
    "### Using csv package"
   ]
  },
  {
   "cell_type": "code",
   "execution_count": 4,
   "metadata": {},
   "outputs": [
    {
     "name": "stdout",
     "output_type": "stream",
     "text": [
      "[{'name': 'Adam', 'class': 'AI23', 'email': 'adam@gmail.com'}, {'name': 'Mary', 'class': 'AI23', 'email': 'mary@gmail.com'}]\n"
     ]
    }
   ],
   "source": [
    "import csv\n",
    "\n",
    "students = []\n",
    "\n",
    "with open(\".\\\\data\\\\students.csv\") as file:\n",
    "    reader = csv.DictReader(file)\n",
    "\n",
    "    for row in reader:\n",
    "        students.append({\"name\": row[\"name\"], \"class\": row[\"class\"], \"email\": row[\"email\"]})\n",
    "    print (students)\n"
   ]
  },
  {
   "cell_type": "markdown",
   "metadata": {},
   "source": [
    "## JSON serialization and deserialization"
   ]
  },
  {
   "cell_type": "code",
   "execution_count": 4,
   "metadata": {},
   "outputs": [],
   "source": [
    "import json\n",
    "\n",
    "teacher = {\n",
    "    \"firstname\": \"Fredrik\", \n",
    "    \"lastname\": \"Johansson\", \n",
    "    \"age\": 42,\n",
    "    \"languages\": [\"Python\", \"C#\", \"Javascript\"],\n",
    "    \"contactinfo\": {\n",
    "        \"phone\": \"0702345678\",\n",
    "        \"email\": [\n",
    "            \"fredrik@everyloop.com\", \n",
    "            \"fredrik@gmail.com\", \n",
    "            \"fredrik.johansson@hotmail.com\",\n",
    "        ]\n",
    "    }\n",
    "}\n",
    "\n",
    "serialized_data = json.dumps(teacher, indent = 4)\n",
    "\n",
    "# print (serialized_data)\n",
    "\n",
    "with open (\".\\\\Data\\\\teacher.json\", \"w\") as file:\n",
    "    file.write(serialized_data)\n"
   ]
  },
  {
   "cell_type": "markdown",
   "metadata": {},
   "source": [
    "We use dumps() to serialize data, i.e. to make a json file of it"
   ]
  },
  {
   "cell_type": "code",
   "execution_count": 5,
   "metadata": {},
   "outputs": [
    {
     "name": "stdout",
     "output_type": "stream",
     "text": [
      "{\n",
      "    \"firstname\": \"Fredrik\",\n",
      "    \"lastname\": \"Johansson\",\n",
      "    \"age\": 42,\n",
      "    \"languages\": [\n",
      "        \"Python\",\n",
      "        \"C#\",\n",
      "        \"Javascript\"\n",
      "    ],\n",
      "    \"contactinfo\": {\n",
      "        \"phone\": \"0702345678\",\n",
      "        \"email\": [\n",
      "            \"fredrik@everyloop.com\",\n",
      "            \"fredrik@gmail.com\",\n",
      "            \"fredrik.johansson@hotmail.com\"\n",
      "        ]\n",
      "    }\n",
      "}\n"
     ]
    }
   ],
   "source": [
    "with open (\".\\\\Data\\\\teacher.json\", \"r\") as file:\n",
    "    data = file.read()\n",
    "\n",
    "print (data)"
   ]
  },
  {
   "cell_type": "code",
   "execution_count": 6,
   "metadata": {},
   "outputs": [
    {
     "name": "stdout",
     "output_type": "stream",
     "text": [
      "{'firstname': 'Fredrik', 'lastname': 'Johansson', 'age': 42, 'languages': ['Python', 'C#', 'Javascript'], 'contactinfo': {'phone': '0702345678', 'email': ['fredrik@everyloop.com', 'fredrik@gmail.com', 'fredrik.johansson@hotmail.com']}}\n"
     ]
    },
    {
     "data": {
      "text/plain": [
       "str"
      ]
     },
     "execution_count": 6,
     "metadata": {},
     "output_type": "execute_result"
    }
   ],
   "source": [
    "with open (\".\\\\Data\\\\teacher.json\", \"r\") as file:\n",
    "    data = file.read()\n",
    "\n",
    "print (json.loads(data))\n",
    "\n",
    "type(data)"
   ]
  },
  {
   "cell_type": "markdown",
   "metadata": {},
   "source": [
    "We use loads() to deserialize data (to convert to Python object from JSON file)"
   ]
  },
  {
   "cell_type": "code",
   "execution_count": 11,
   "metadata": {},
   "outputs": [
    {
     "name": "stdout",
     "output_type": "stream",
     "text": [
      "<class 'str'>\n"
     ]
    }
   ],
   "source": [
    "import json\n",
    "\n",
    "with open (\".\\\\Data\\\\archive\\\\car-segmentation\\\\masks.json\") as file:\n",
    "    data = file.read()\n",
    "\n",
    "cars = json.loads(data)\n",
    "\n",
    "print(type(cars))"
   ]
  }
 ],
 "metadata": {
  "kernelspec": {
   "display_name": "Python 3",
   "language": "python",
   "name": "python3"
  },
  "language_info": {
   "codemirror_mode": {
    "name": "ipython",
    "version": 3
   },
   "file_extension": ".py",
   "mimetype": "text/x-python",
   "name": "python",
   "nbconvert_exporter": "python",
   "pygments_lexer": "ipython3",
   "version": "3.11.5"
  },
  "orig_nbformat": 4
 },
 "nbformat": 4,
 "nbformat_minor": 2
}
