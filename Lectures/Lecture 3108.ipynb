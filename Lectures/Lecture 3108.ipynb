{
 "cells": [
  {
   "cell_type": "code",
   "execution_count": 1,
   "metadata": {},
   "outputs": [
    {
     "name": "stdout",
     "output_type": "stream",
     "text": [
      "Hello\n"
     ]
    }
   ],
   "source": [
    "print (\"Hello\")"
   ]
  },
  {
   "cell_type": "markdown",
   "metadata": {},
   "source": [
    "# Data Types"
   ]
  },
  {
   "cell_type": "markdown",
   "metadata": {},
   "source": [
    "- **string** (text)\n",
    "- **int** (integer)\n",
    "- **float** (floating point, decimaltal)\n",
    "- **bool** (boolean)"
   ]
  },
  {
   "cell_type": "code",
   "execution_count": 3,
   "metadata": {},
   "outputs": [
    {
     "name": "stdout",
     "output_type": "stream",
     "text": [
      "Mary\n",
      "7\n",
      "3.15\n",
      "True\n"
     ]
    }
   ],
   "source": [
    "mystring = \"Mary\"\n",
    "print (mystring)\n",
    "\n",
    "myint = 7\n",
    "print (myint)\n",
    "\n",
    "myfloat = 3.15\n",
    "print (myfloat)\n",
    "\n",
    "mybool = True\n",
    "print (mybool)"
   ]
  },
  {
   "cell_type": "markdown",
   "metadata": {},
   "source": [
    "# Literal values\n",
    "\n",
    "- \"Hello\" - **string** Can use single or double quotes. Case sensitive.\n",
    "- 5 - **integer**\n",
    "- 4.5 - **float**\n",
    "- True - **bool** Can be True or False."
   ]
  },
  {
   "cell_type": "markdown",
   "metadata": {},
   "source": [
    "# Variables\n",
    "\n",
    "- case-sensitive\n",
    "- created when first assigned, don't need to be declared\n",
    "- dynamic typing, type is referred from assignment, can be retyped\n",
    "- type cast with: str (), float(), int(), bool()"
   ]
  },
  {
   "cell_type": "code",
   "execution_count": 7,
   "metadata": {},
   "outputs": [
    {
     "name": "stdout",
     "output_type": "stream",
     "text": [
      "58\n",
      "<class 'str'>\n",
      "<class 'int'>\n"
     ]
    },
    {
     "ename": "NameError",
     "evalue": "name 'mynumber2' is not defined",
     "output_type": "error",
     "traceback": [
      "\u001b[1;31m---------------------------------------------------------------------------\u001b[0m",
      "\u001b[1;31mNameError\u001b[0m                                 Traceback (most recent call last)",
      "Cell \u001b[1;32mIn[7], line 8\u001b[0m\n\u001b[0;32m      5\u001b[0m \u001b[39mprint\u001b[39m (\u001b[39mtype\u001b[39m(mynumber2))\n\u001b[0;32m      7\u001b[0m \u001b[39mdel\u001b[39;00m mynumber2\n\u001b[1;32m----> 8\u001b[0m \u001b[39mprint\u001b[39m(mynumber2)\n",
      "\u001b[1;31mNameError\u001b[0m: name 'mynumber2' is not defined"
     ]
    }
   ],
   "source": [
    "mynumber = \"56\"\n",
    "mynumber2 = int(mynumber)\n",
    "print (mynumber2+2)\n",
    "print (type(mynumber))\n",
    "print (type(mynumber2))\n",
    "\n",
    "del mynumber2\n",
    "print(mynumber2)"
   ]
  }
 ],
 "metadata": {
  "kernelspec": {
   "display_name": "Python 3",
   "language": "python",
   "name": "python3"
  },
  "language_info": {
   "codemirror_mode": {
    "name": "ipython",
    "version": 3
   },
   "file_extension": ".py",
   "mimetype": "text/x-python",
   "name": "python",
   "nbconvert_exporter": "python",
   "pygments_lexer": "ipython3",
   "version": "3.11.5"
  },
  "orig_nbformat": 4
 },
 "nbformat": 4,
 "nbformat_minor": 2
}
