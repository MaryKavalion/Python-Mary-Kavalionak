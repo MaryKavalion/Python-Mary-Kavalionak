{
 "cells": [
  {
   "cell_type": "code",
   "execution_count": 1,
   "metadata": {},
   "outputs": [
    {
     "name": "stdout",
     "output_type": "stream",
     "text": [
      "Hello\n"
     ]
    }
   ],
   "source": [
    "print (\"Hello\")"
   ]
  },
  {
   "cell_type": "markdown",
   "metadata": {},
   "source": [
    "# Data Types"
   ]
  },
  {
   "cell_type": "markdown",
   "metadata": {},
   "source": [
    "- **string** (text)\n",
    "- **int** (integer)\n",
    "- **float** (floating point, decimaltal)\n",
    "- **bool** (boolean)"
   ]
  },
  {
   "cell_type": "code",
   "execution_count": 3,
   "metadata": {},
   "outputs": [
    {
     "name": "stdout",
     "output_type": "stream",
     "text": [
      "Mary\n",
      "7\n",
      "3.15\n",
      "True\n"
     ]
    }
   ],
   "source": [
    "mystring = \"Mary\"\n",
    "print (mystring)\n",
    "\n",
    "myint = 7\n",
    "print (myint)\n",
    "\n",
    "myfloat = 3.15\n",
    "print (myfloat)\n",
    "\n",
    "mybool = True\n",
    "print (mybool)"
   ]
  },
  {
   "cell_type": "markdown",
   "metadata": {},
   "source": [
    "# Literal values\n",
    "\n",
    "- \"Hello\" - **string** Can use single or double quotes. Case sensitive.\n",
    "- 5 - **integer**\n",
    "- 4.5 - **float**\n",
    "- True - **bool** Can be True or False."
   ]
  },
  {
   "cell_type": "markdown",
   "metadata": {},
   "source": [
    "# Variables\n",
    "\n",
    "- case-sensitive\n",
    "- created when first assigned, don't need to be declared\n",
    "- dynamic typing, type is referred from assignment, can be retyped\n",
    "- type cast with: str (), float(), int(), bool()"
   ]
  },
  {
   "cell_type": "code",
   "execution_count": 7,
   "metadata": {},
   "outputs": [
    {
     "name": "stdout",
     "output_type": "stream",
     "text": [
      "58\n",
      "<class 'str'>\n",
      "<class 'int'>\n"
     ]
    },
    {
     "ename": "NameError",
     "evalue": "name 'mynumber2' is not defined",
     "output_type": "error",
     "traceback": [
      "\u001b[1;31m---------------------------------------------------------------------------\u001b[0m",
      "\u001b[1;31mNameError\u001b[0m                                 Traceback (most recent call last)",
      "Cell \u001b[1;32mIn[7], line 8\u001b[0m\n\u001b[0;32m      5\u001b[0m \u001b[39mprint\u001b[39m (\u001b[39mtype\u001b[39m(mynumber2))\n\u001b[0;32m      7\u001b[0m \u001b[39mdel\u001b[39;00m mynumber2\n\u001b[1;32m----> 8\u001b[0m \u001b[39mprint\u001b[39m(mynumber2)\n",
      "\u001b[1;31mNameError\u001b[0m: name 'mynumber2' is not defined"
     ]
    }
   ],
   "source": [
    "mynumber = \"56\"\n",
    "mynumber2 = int(mynumber)\n",
    "print (mynumber2+2)\n",
    "print (type(mynumber))\n",
    "print (type(mynumber2))\n",
    "\n",
    "del mynumber2\n",
    "print(mynumber2)"
   ]
  },
  {
   "cell_type": "code",
   "execution_count": 1,
   "metadata": {},
   "outputs": [
    {
     "name": "stdout",
     "output_type": "stream",
     "text": [
      "Mary\n"
     ]
    }
   ],
   "source": [
    "name = input(\"Enter your name\")\n",
    "print (name)"
   ]
  },
  {
   "cell_type": "markdown",
   "metadata": {},
   "source": [
    "# Operators"
   ]
  },
  {
   "cell_type": "markdown",
   "metadata": {},
   "source": [
    "## Arithmetic operators\n",
    "\n",
    "- Addition +\n",
    "- Subtraction -\n",
    "- Multiplication *\n",
    "- Division /\n",
    "- Floor Division //\n",
    "- Modulus %\n",
    "- Exponentation **"
   ]
  },
  {
   "cell_type": "code",
   "execution_count": 2,
   "metadata": {},
   "outputs": [
    {
     "name": "stdout",
     "output_type": "stream",
     "text": [
      "4\n"
     ]
    }
   ],
   "source": [
    "print (9 // 2)"
   ]
  },
  {
   "cell_type": "markdown",
   "metadata": {},
   "source": [
    "## Comparison operators\n",
    "- Equal ==\n",
    "- Not Equal !=\n",
    "- Greater than >\n",
    "- Less than <\n",
    "- Greater or Equal than <=\n",
    "- Less or Equal <="
   ]
  },
  {
   "cell_type": "code",
   "execution_count": 3,
   "metadata": {},
   "outputs": [
    {
     "name": "stdout",
     "output_type": "stream",
     "text": [
      "False\n"
     ]
    }
   ],
   "source": [
    "print (5 == 6)"
   ]
  },
  {
   "cell_type": "markdown",
   "metadata": {},
   "source": [
    "## Logical operators\n",
    "- and (true if both are true)\n",
    "- or (true if one or both are true)\n",
    "- not (true if false, false if true)"
   ]
  },
  {
   "cell_type": "code",
   "execution_count": 12,
   "metadata": {},
   "outputs": [
    {
     "name": "stdout",
     "output_type": "stream",
     "text": [
      "False\n",
      "True\n",
      "False\n"
     ]
    }
   ],
   "source": [
    "print (True and False)\n",
    "print (True or False)\n",
    "print (not True)"
   ]
  },
  {
   "cell_type": "code",
   "execution_count": 14,
   "metadata": {},
   "outputs": [
    {
     "name": "stdout",
     "output_type": "stream",
     "text": [
      "True\n",
      "False\n"
     ]
    }
   ],
   "source": [
    "# \"Anders\" < \"Fredrik\" - checks if Fredrik comes before Anders (ABC)\n",
    "print (\"Anders\" < \"Fredrik\")\n",
    "\n",
    "x = 6\n",
    "print (10 < x < 20)"
   ]
  },
  {
   "cell_type": "code",
   "execution_count": 15,
   "metadata": {},
   "outputs": [
    {
     "name": "stdout",
     "output_type": "stream",
     "text": [
      "True\n",
      "False\n"
     ]
    }
   ],
   "source": [
    "# casting str to bool => false for empty string, true for not empty string\n",
    "print (bool(\"jhf\"))\n",
    "\n",
    "#casting numeric to bool => true for non-zero\n",
    "print (bool(0))"
   ]
  }
 ],
 "metadata": {
  "kernelspec": {
   "display_name": "Python 3",
   "language": "python",
   "name": "python3"
  },
  "language_info": {
   "codemirror_mode": {
    "name": "ipython",
    "version": 3
   },
   "file_extension": ".py",
   "mimetype": "text/x-python",
   "name": "python",
   "nbconvert_exporter": "python",
   "pygments_lexer": "ipython3",
   "version": "3.11.5"
  },
  "orig_nbformat": 4
 },
 "nbformat": 4,
 "nbformat_minor": 2
}
