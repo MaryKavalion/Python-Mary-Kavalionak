{
 "cells": [
  {
   "cell_type": "markdown",
   "metadata": {},
   "source": [
    "# Properties"
   ]
  },
  {
   "cell_type": "markdown",
   "metadata": {},
   "source": [
    "A property is a python construction (and OOP concept) that works similar to an attribute, with the difference that an attr stores and reads the value directly to memory, while a property uses getter and setter methods to change the values of the property.\n",
    "\n",
    "From the \"outside\" of the class definition when a property of an object is set, the object internal setter method will be called to handle the operation. This method is marked in the class definition by a decorator called {name}.setter (where name is the name of the property).\n",
    "\n",
    "When the property is read (from the \"outside\"), the odjects internal getter method will be called to return a value. The getter method is marked in the class definition with a decorator called @property."
   ]
  },
  {
   "cell_type": "code",
   "execution_count": 17,
   "metadata": {},
   "outputs": [],
   "source": [
    "class Employee:\n",
    "    def __init__(self, name, salary):\n",
    "        self.name = name\n",
    "        self.salary = salary #and salary is a property (below)\n",
    "        # if there is no property metod:\n",
    "        # self._salary = 0 if salary < 0 else salary # underscore is to show it's a private attribute, because there is no private/public in Python\n",
    "        # meaning is that it shouldn't be changed outside the class definition without using special class functions\n",
    "\n",
    "    # Getter method\n",
    "    @property\n",
    "    def salary (self):\n",
    "        return self._salary\n",
    "    \n",
    "    # Setter method\n",
    "    @salary.setter #property is going to work as a variable\n",
    "    def salary (self, salary):\n",
    "        self._salary = 0 if salary < 0 else salary # and we set _salary here\n",
    "\n",
    "    # def set_salary (self, salary): #setter\n",
    "        # self._salary = 0 if salary < 0 else salary\n",
    "\n",
    "    # def get_salary(self): #getter\n",
    "        # return self._salary\n",
    "        "
   ]
  },
  {
   "cell_type": "code",
   "execution_count": 18,
   "metadata": {},
   "outputs": [
    {
     "name": "stdout",
     "output_type": "stream",
     "text": [
      "0\n"
     ]
    }
   ],
   "source": [
    "employee = Employee(\"Anders\", 40000)\n",
    "employee2 = Employee (\"Bertil\", -40000)\n",
    "employee._salary = 50000\n",
    "\n",
    "employee.salary = -50000\n",
    "print (employee.salary)\n",
    "\n",
    "# employee2.set_salary(-40000) #setter\n",
    "\n",
    "# print (employee2.get_salary()) #getter\n"
   ]
  },
  {
   "cell_type": "code",
   "execution_count": 25,
   "metadata": {},
   "outputs": [
    {
     "name": "stdout",
     "output_type": "stream",
     "text": [
      "Fredrik Johansson 45\n",
      "Fredrik,Johansson\n",
      "Fredrik Johansson\n"
     ]
    }
   ],
   "source": [
    "class Person:\n",
    "    def __init__(self, firstname, lastname):\n",
    "        self.firstname = firstname\n",
    "        self.lastname = lastname\n",
    "\n",
    "    @property\n",
    "    def fullname(self):\n",
    "        return f\"{self.firstname} {self.lastname}\"\n",
    "\n",
    "    # Getter method\n",
    "    @property\n",
    "    def age (self):\n",
    "        return self._age\n",
    "    \n",
    "    # Setter method\n",
    "    @age.setter #property is going to work as a variable\n",
    "    def age (self, age):  \n",
    "        if type(age) != int:\n",
    "            self._age = 0\n",
    "        if age > 100:\n",
    "            age = 100\n",
    "        self._age = 0 if (age < 0) else age # and we set _salary here\n",
    "    \n",
    "\n",
    "person = Person (\"Fredrik\", \"Johansson\")\n",
    "person.age = 45\n",
    "print (person.fullname, person.age)\n",
    "\n",
    "print (person.firstname, person.lastname, sep=\",\")\n",
    "print (person.fullname) #if that was a function, we would need brackets: person.fullname()"
   ]
  }
 ],
 "metadata": {
  "kernelspec": {
   "display_name": "Python 3",
   "language": "python",
   "name": "python3"
  },
  "language_info": {
   "codemirror_mode": {
    "name": "ipython",
    "version": 3
   },
   "file_extension": ".py",
   "mimetype": "text/x-python",
   "name": "python",
   "nbconvert_exporter": "python",
   "pygments_lexer": "ipython3",
   "version": "3.11.5"
  },
  "orig_nbformat": 4
 },
 "nbformat": 4,
 "nbformat_minor": 2
}
